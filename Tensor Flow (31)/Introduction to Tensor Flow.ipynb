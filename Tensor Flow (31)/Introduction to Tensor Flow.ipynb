{
 "cells": [
  {
   "cell_type": "markdown",
   "metadata": {},
   "source": [
    "# Intoduction to Tensor Flow 2.0\n",
    "topics in this notebook are:\n",
    "\n",
    "- TensorFlow Install and Setup\n",
    "- Representing Tensors\n",
    "- Tensor Shape and Rank\n",
    "- Types of Tensors\n"
   ]
  },
  {
   "cell_type": "markdown",
   "metadata": {},
   "source": [
    "## Installing tensorflow\n",
    "\n",
    "```python  \n",
    "    pip install tensorflow\n",
    "```\n"
   ]
  },
  {
   "cell_type": "markdown",
   "metadata": {},
   "source": [
    "## Version of TensorFlow\n",
    "\n",
    "To check the version of TensorFlow use:\n",
    "\n",
    "```python\n",
    "    print(tf.version) \n",
    "```"
   ]
  },
  {
   "cell_type": "markdown",
   "metadata": {},
   "source": [
    "## Tensors\n",
    "\n",
    "\"A tensor is a generalization of vectors and matrices to potentially higher dimensions. Internally, TensorFlow represents tensors as n-dimensional arrays of base datatypes.\"\n",
    "\n",
    "Each tensor has a data type and a shape.\n",
    "\n",
    "**Data Types Include:** float32, int32, string and others.\n",
    "\n",
    "**Shape:** Represents the dimension of data."
   ]
  },
  {
   "cell_type": "markdown",
   "metadata": {},
   "source": [
    "### Creating Tensors\n",
    "\n",
    "```python\n",
    "    string = tf.Variable(\"this is a string\", tf.string) \n",
    "    number = tf.Variable(324, tf.int16)\n",
    "    floating = tf.Variable(3.567, tf.float64)\n",
    "```\n",
    "\n",
    "> The following tensors are 0 degree tensors or Scalars"
   ]
  },
  {
   "cell_type": "markdown",
   "metadata": {},
   "source": [
    "### Rank of Tensors\n",
    "\n",
    "The rank of a tensor is the number of dimnsions invloved in the tensor\n",
    "\n",
    "```python\n",
    "    rank1_tensor = tf.Variable([\"Test\"], tf.string) \n",
    "    rank2_tensor = tf.Variable([[\"test\", \"ok\"], [\"test\", \"yes\"]], tf.string)\n",
    "\n",
    "    tf.rank(rank2_tensor)\n",
    "```"
   ]
  },
  {
   "cell_type": "markdown",
   "metadata": {},
   "source": [
    "### Shape of Tensors\n",
    "\n",
    "The shape of a tensor is simply the number of elements that exist in each dimension.\n",
    "\n",
    "```python\n",
    "    rank2_tensor.shape\n",
    "```"
   ]
  },
  {
   "cell_type": "markdown",
   "metadata": {},
   "source": [
    "### Changing Shape\n",
    "\n",
    "There are often many shapes that have the same number of elements, making it convient to be able to change the shape of a tensor.\n",
    "\n",
    "```python\n",
    "    tensor1 = tf.ones([1,2,3])  # tf.ones() creates a shape [1,2,3] tensor full of ones\n",
    "    tensor2 = tf.reshape(tensor1, [2,3,1]) # reshape existing data to shape [2,3,1]\n",
    "    tensor3 = tf.reshape(tensor2, [3, -1]) ## -1 tells the tensor to calculate the size of the dimension in that place\n",
    "                                           # this will reshape the tensor to [3,3]\n",
    "```"
   ]
  },
  {
   "cell_type": "markdown",
   "metadata": {},
   "source": [
    "### Slicing Tensors\n",
    "\n",
    "The slice operator can be used on tensors to select specific axes or elements.\n",
    "\n",
    "```python\n",
    "    # Creating a 2D tensor\n",
    "    matrix = [[1,2,3,4,5],\n",
    "              [6,7,8,9,10],\n",
    "              [11,12,13,14,15],\n",
    "              [16,17,18,19,20]]\n",
    "\n",
    "    tensor = tf.Variable(matrix, dtype=tf.int32) \n",
    "    print(tf.rank(tensor))\n",
    "    print(tensor.shape)\n",
    "    \n",
    "    three = tensor[0,2]  # selects the 3rd element from the 1st row\n",
    "    print(three)  # -> 3\n",
    "\n",
    "    row1 = tensor[0]  # selects the first row\n",
    "    print(row1)\n",
    "\n",
    "    column1 = tensor[:, 0]  # selects the first column\n",
    "    print(column1)\n",
    "\n",
    "    row_2_and_4 = tensor[1::2]  # selects second and fourth row\n",
    "    print(row_2_and_4)\n",
    "\n",
    "    column_1_in_row_2_and_3 = tensor[1:3, 0]\n",
    "    print(column_1_in_row_2_and_3)\n",
    "```"
   ]
  },
  {
   "cell_type": "markdown",
   "metadata": {},
   "source": [
    "## Sources\n",
    "\n",
    "Most of the information is taken direclty from the TensorFlow website which can be found below.\n",
    "\n",
    "[TensorFlow Guide](https://www.tensorflow.org/guide/tensor)\n",
    "\n",
    "[FreeCodeCamp](https://colab.research.google.com/drive/1F_EWVKa8rbMXi3_fG0w7AtcscFq7Hi7B#forceEdit=true&sandboxMode=true)\n"
   ]
  }
 ],
 "metadata": {
  "kernelspec": {
   "display_name": "Python 3",
   "language": "python",
   "name": "python3"
  },
  "language_info": {
   "codemirror_mode": {
    "name": "ipython",
    "version": 3
   },
   "file_extension": ".py",
   "mimetype": "text/x-python",
   "name": "python",
   "nbconvert_exporter": "python",
   "pygments_lexer": "ipython3",
   "version": "3.12.1"
  }
 },
 "nbformat": 4,
 "nbformat_minor": 2
}
